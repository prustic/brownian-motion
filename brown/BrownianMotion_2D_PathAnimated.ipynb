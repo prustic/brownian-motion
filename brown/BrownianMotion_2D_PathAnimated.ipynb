{
 "cells": [
  {
   "cell_type": "code",
   "execution_count": 3,
   "metadata": {},
   "outputs": [
    {
     "name": "stderr",
     "output_type": "stream",
     "text": [
      "C:\\Users\\Petar\\Anaconda3\\lib\\site-packages\\ipykernel_launcher.py:69: UserWarning: Matplotlib is currently using agg, which is a non-GUI backend, so cannot show the figure.\n"
     ]
    }
   ],
   "source": [
    "import numpy as np\n",
    "import matplotlib\n",
    "matplotlib.use(\"Agg\")\n",
    "import matplotlib.pyplot as plt\n",
    "import matplotlib.animation as animation\n",
    "\n",
    "\n",
    "np.random.seed(5)\n",
    "\n",
    "\n",
    "# Set up formatting for the movie files\n",
    "Writer = animation.writers['ffmpeg']\n",
    "writer = Writer(fps=15, metadata=dict(artist='Me'), bitrate=1800)\n",
    "\n",
    "\n",
    "def generateRandomLines(dt, N):\n",
    "    \n",
    "    dX = np.sqrt(dt) * np.random.randn(1, N)\n",
    "    X = np.cumsum(dX, axis=1)\n",
    "    \n",
    "    dY = np.sqrt(dt) * np.random.randn(1, N)\n",
    "    Y = np.cumsum(dY, axis=1)\n",
    "    \n",
    "    lineData = np.vstack((X, Y))\n",
    "    \n",
    "    return lineData\n",
    "\n",
    "\n",
    "# Returns Line2D objects\n",
    "def updateLines(num, dataLines, lines):\n",
    "    for u, v in zip(lines, dataLines):\n",
    "        u.set_data(v[0:2, :num])\n",
    "\n",
    "    return lines\n",
    "\n",
    "\n",
    "N = 501 # Number of points\n",
    "T = 1.0\n",
    "dt = T/(N-1)\n",
    "\n",
    "\n",
    "fig, ax = plt.subplots()\n",
    "\n",
    "data = [generateRandomLines(dt, N)]\n",
    "\n",
    "ax = plt.axes(xlim=(-2.0, 2.0), ylim=(-2.0, 2.0))\n",
    "\n",
    "## Uncomment for tight axes\n",
    "#x = data[0][0]\n",
    "#y = data[0][1]\n",
    "#xmin = min(x)\n",
    "#xmax = max(x)\n",
    "#ymin = min(y)\n",
    "#ymax = max(y)\n",
    "#ax = plt.axes(xlim=(xmin+0.1*xmin, xmax+0.1*xmax), ylim=(ymin+0.1*ymin, ymax+0.1*ymax))\n",
    "\n",
    "ax.set_xlabel('X(t)')\n",
    "ax.set_ylabel('Y(t)')\n",
    "ax.set_title('2D Discretized Brownian Paths')\n",
    "\n",
    "## Create a list of line2D objects\n",
    "lines = [ax.plot(dat[0, 0:1], dat[1, 0:1])[0] for dat in data]\n",
    "\n",
    "\n",
    "## Create the animation object\n",
    "anim = animation.FuncAnimation(fig, updateLines, N+1, fargs=(data, lines),\n",
    "                                   interval=30, repeat=True, blit=False)\n",
    "\n",
    "plt.tight_layout()\n",
    "plt.show()\n",
    "\n",
    "## Uncomment to save the animation\n",
    "#anim.save('brownian2d_1path.mp4', writer=writer)"
   ]
  },
  {
   "cell_type": "code",
   "execution_count": null,
   "metadata": {},
   "outputs": [],
   "source": []
  }
 ],
 "metadata": {
  "kernelspec": {
   "display_name": "Python 3",
   "language": "python",
   "name": "python3"
  },
  "language_info": {
   "codemirror_mode": {
    "name": "ipython",
    "version": 3
   },
   "file_extension": ".py",
   "mimetype": "text/x-python",
   "name": "python",
   "nbconvert_exporter": "python",
   "pygments_lexer": "ipython3",
   "version": "3.7.4"
  }
 },
 "nbformat": 4,
 "nbformat_minor": 2
}
